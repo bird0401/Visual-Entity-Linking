{
  "nbformat": 4,
  "nbformat_minor": 0,
  "metadata": {
    "colab": {
      "name": "scraping_from_wikimedia.ipynb",
      "provenance": [],
      "collapsed_sections": [],
      "authorship_tag": "ABX9TyOXuvTouoUz8WhoK+0q1rq+",
      "include_colab_link": true
    },
    "kernelspec": {
      "name": "python3",
      "display_name": "Python 3"
    },
    "language_info": {
      "name": "python"
    }
  },
  "cells": [
    {
      "cell_type": "markdown",
      "metadata": {
        "id": "view-in-github",
        "colab_type": "text"
      },
      "source": [
        "<a href=\"https://colab.research.google.com/github/bird0401/Instance_level_recognition/blob/main/scraping_from_wikimedia.ipynb\" target=\"_parent\"><img src=\"https://colab.research.google.com/assets/colab-badge.svg\" alt=\"Open In Colab\"/></a>"
      ]
    },
    {
      "cell_type": "code",
      "source": [
        "pip install fake_useragent"
      ],
      "metadata": {
        "colab": {
          "base_uri": "https://localhost:8080/"
        },
        "id": "oZIXqxJJFepd",
        "outputId": "def42ddc-25c5-4fe2-def3-676a0845904f"
      },
      "execution_count": 1,
      "outputs": [
        {
          "output_type": "stream",
          "name": "stdout",
          "text": [
            "Looking in indexes: https://pypi.org/simple, https://us-python.pkg.dev/colab-wheels/public/simple/\n",
            "Collecting fake_useragent\n",
            "  Downloading fake-useragent-0.1.11.tar.gz (13 kB)\n",
            "Building wheels for collected packages: fake-useragent\n",
            "  Building wheel for fake-useragent (setup.py) ... \u001b[?25l\u001b[?25hdone\n",
            "  Created wheel for fake-useragent: filename=fake_useragent-0.1.11-py3-none-any.whl size=13502 sha256=109623c7ac24cb61ee86c648c9b2791fa88e405bb09714c01da4a3a5dcef55c2\n",
            "  Stored in directory: /root/.cache/pip/wheels/ed/f7/62/50ab6c9a0b5567267ab76a9daa9d06315704209b2c5d032031\n",
            "Successfully built fake-useragent\n",
            "Installing collected packages: fake-useragent\n",
            "Successfully installed fake-useragent-0.1.11\n"
          ]
        }
      ]
    },
    {
      "cell_type": "code",
      "execution_count": 2,
      "metadata": {
        "id": "vES-efu-GJxz"
      },
      "outputs": [],
      "source": [
        "import requests\n",
        "from bs4 import BeautifulSoup\n",
        "import re\n",
        "import os\n",
        "import shutil\n",
        "from fake_useragent import UserAgent\n",
        "import pathlib\n",
        "import time"
      ]
    },
    {
      "cell_type": "code",
      "source": [
        "def download_images(url, file_path):\n",
        "  ua = UserAgent()\n",
        "  header = {'user-agent':ua.chrome}\n",
        "  r = requests.get(url, stream=True, headers=header)\n",
        "\n",
        "  if r.status_code == 200:\n",
        "    with open(file_path, \"wb\") as f:\n",
        "      f.write(r.content)\n",
        "  else: print(f'error {r.status_code}')"
      ],
      "metadata": {
        "id": "_EG623osmpP1"
      },
      "execution_count": 3,
      "outputs": []
    },
    {
      "cell_type": "code",
      "source": [
        "# collect instance urls\n",
        "first_loop=True\n",
        "move_to_next_page=True\n",
        "instance_urls=[]\n",
        "\n",
        "while move_to_next_page:\n",
        "  # requests to wikimedia regarding category which I want to exploit images\n",
        "  wikimedia_url = 'https://commons.wikimedia.org'\n",
        "  category='Dog_breeds_by_name'\n",
        "  category_url=f'/wiki/Category:{category}'\n",
        "  \n",
        "  if first_loop: \n",
        "    res = requests.get(wikimedia_url+category_url)\n",
        "    time.sleep(1)\n",
        "    first_loop=False\n",
        "  else: res = requests.get(wikimedia_url+next_page_url)\n",
        "\n",
        "  soup = BeautifulSoup(res.text, \"html.parser\")\n",
        "  try:  next_page_url=soup.find_all(text=\"next page\")[0].parent.attrs['href']\n",
        "  except: move_to_next_page=False\n",
        "\n",
        "  elems=soup.find_all(class_=\"CategoryTreeItem\")\n",
        "\n",
        "  for elem in elems:\n",
        "    instance_url=elem.find('a').attrs['href']\n",
        "    instance_urls.append(instance_url)"
      ],
      "metadata": {
        "id": "95AysRVhicJw"
      },
      "execution_count": 4,
      "outputs": []
    },
    {
      "cell_type": "code",
      "source": [
        "# len(instance_urls)\n",
        "# wikimedia_url+category_url\n",
        "instance_urls"
      ],
      "metadata": {
        "id": "NHM4Zl8e1NlF"
      },
      "execution_count": null,
      "outputs": []
    },
    {
      "cell_type": "code",
      "source": [
        "# collect image urls of each instance\n",
        "for instance_url in instance_urls[:1]:\n",
        "  res = requests.get(wikimedia_url+instance_url)\n",
        "  time.sleep(1)\n",
        "  soup = BeautifulSoup(res.text, \"html.parser\")\n",
        "\n",
        "  extiw_class=soup.select('a[href^=\"https://www.wikidata.org/wiki/Q\"]')\n",
        "  try:  wikidata_id=pathlib.Path(extiw_class[0].attrs['href']).stem\n",
        "  except:  continue\n",
        "  path = \"/content/imgs/\" + wikidata_id\n",
        "  os.makedirs(path,exist_ok=True)\n",
        "\n",
        "  img_urls=[]\n",
        "  move_to_next_page=True\n",
        "\n",
        "  while move_to_next_page:\n",
        "    res = requests.get(wikimedia_url+instance_url)\n",
        "    time.sleep(1)\n",
        "    soup = BeautifulSoup(res.text, \"html.parser\")\n",
        "\n",
        "    try:  instance_url=soup.find_all(text=\"next page\")[0].parent.attrs['href']\n",
        "    except: move_to_next_page=False\n",
        "    \n",
        "    image_classes=soup.find_all(class_=\"galleryfilename galleryfilename-truncate\")\n",
        "\n",
        "    for image_class in image_classes:\n",
        "      img_page_url=image_class.attrs['href']\n",
        "      res = requests.get(wikimedia_url+img_page_url)\n",
        "      soup = BeautifulSoup(res.text, \"html.parser\")\n",
        "      img_url = soup.find(class_=\"fullImageLink\").a.attrs['href']\n",
        "      img_urls.append(img_url)\n",
        "\n",
        "  for index, url in enumerate(img_urls):\n",
        "      filename = 'image_' + str(index) + '.jpg'\n",
        "      image_path = os.path.join(path, filename)\n",
        "      print(url)\n",
        "      print(image_path)\n",
        "      download_images(url=url, file_path=image_path)\n",
        "  print()"
      ],
      "metadata": {
        "colab": {
          "base_uri": "https://localhost:8080/"
        },
        "id": "WMDtblR0LNc-",
        "outputId": "6ecc199f-d410-4378-aaab-40e3e18eb2ef"
      },
      "execution_count": 44,
      "outputs": [
        {
          "output_type": "stream",
          "name": "stdout",
          "text": [
            "https://upload.wikimedia.org/wikipedia/commons/8/85/2013_Westminster_Kennel_Club_Dog_Show-_Affenpinscher_Joey_aka_GCH_Banana_Joe_V_Tani_Kazari_%288471258772%29.jpg\n",
            "https://upload.wikimedia.org/wikipedia/commons/d/d8/Affenpinscher_%28Monkey_Terrier%29_from_1915.JPG\n",
            "https://upload.wikimedia.org/wikipedia/commons/d/d8/Affenpinscher_circa_1915.jpg\n",
            "https://upload.wikimedia.org/wikipedia/commons/2/25/Affenpinscher_dog.jpg\n",
            "https://upload.wikimedia.org/wikipedia/commons/9/94/Affenpinscher_Molly.jpg\n",
            "https://upload.wikimedia.org/wikipedia/commons/1/17/Affenpinscher.jpg\n",
            "https://upload.wikimedia.org/wikipedia/commons/8/83/An_Affenpinscher.jpg\n",
            "https://upload.wikimedia.org/wikipedia/commons/b/b2/Borismindre.jpg\n",
            "https://upload.wikimedia.org/wikipedia/commons/6/6b/DocFile_Affen.jpg\n",
            "https://upload.wikimedia.org/wikipedia/commons/9/96/Een_Affenpinscher%2C_Bestanddeelnr_190-0807.jpg\n",
            "https://upload.wikimedia.org/wikipedia/commons/7/70/English_Toy_Terrier_and_Affenpinscher_by_Frances_C._Fairman.jpg\n",
            "https://upload.wikimedia.org/wikipedia/commons/8/8d/Jjmarch10.jpeg\n",
            "https://upload.wikimedia.org/wikipedia/commons/9/96/Pinczer_ma%C5%82pi_756.jpg\n",
            "https://upload.wikimedia.org/wikipedia/commons/d/db/Rocky_In_Frontroom.JPG\n",
            "https://upload.wikimedia.org/wikipedia/commons/8/85/2013_Westminster_Kennel_Club_Dog_Show-_Affenpinscher_Joey_aka_GCH_Banana_Joe_V_Tani_Kazari_%288471258772%29.jpg\n",
            "/content/imgs/Q7254/image_0.jpg\n",
            "https://upload.wikimedia.org/wikipedia/commons/d/d8/Affenpinscher_%28Monkey_Terrier%29_from_1915.JPG\n",
            "/content/imgs/Q7254/image_1.jpg\n",
            "https://upload.wikimedia.org/wikipedia/commons/d/d8/Affenpinscher_circa_1915.jpg\n",
            "/content/imgs/Q7254/image_2.jpg\n",
            "https://upload.wikimedia.org/wikipedia/commons/2/25/Affenpinscher_dog.jpg\n",
            "/content/imgs/Q7254/image_3.jpg\n",
            "https://upload.wikimedia.org/wikipedia/commons/9/94/Affenpinscher_Molly.jpg\n",
            "/content/imgs/Q7254/image_4.jpg\n",
            "https://upload.wikimedia.org/wikipedia/commons/1/17/Affenpinscher.jpg\n",
            "/content/imgs/Q7254/image_5.jpg\n",
            "https://upload.wikimedia.org/wikipedia/commons/8/83/An_Affenpinscher.jpg\n",
            "/content/imgs/Q7254/image_6.jpg\n",
            "https://upload.wikimedia.org/wikipedia/commons/b/b2/Borismindre.jpg\n",
            "/content/imgs/Q7254/image_7.jpg\n",
            "https://upload.wikimedia.org/wikipedia/commons/6/6b/DocFile_Affen.jpg\n",
            "/content/imgs/Q7254/image_8.jpg\n",
            "https://upload.wikimedia.org/wikipedia/commons/9/96/Een_Affenpinscher%2C_Bestanddeelnr_190-0807.jpg\n",
            "/content/imgs/Q7254/image_9.jpg\n",
            "https://upload.wikimedia.org/wikipedia/commons/7/70/English_Toy_Terrier_and_Affenpinscher_by_Frances_C._Fairman.jpg\n",
            "/content/imgs/Q7254/image_10.jpg\n",
            "https://upload.wikimedia.org/wikipedia/commons/8/8d/Jjmarch10.jpeg\n",
            "/content/imgs/Q7254/image_11.jpg\n",
            "https://upload.wikimedia.org/wikipedia/commons/9/96/Pinczer_ma%C5%82pi_756.jpg\n",
            "/content/imgs/Q7254/image_12.jpg\n",
            "https://upload.wikimedia.org/wikipedia/commons/d/db/Rocky_In_Frontroom.JPG\n",
            "/content/imgs/Q7254/image_13.jpg\n",
            "\n"
          ]
        }
      ]
    },
    {
      "cell_type": "code",
      "source": [
        "ls"
      ],
      "metadata": {
        "colab": {
          "base_uri": "https://localhost:8080/"
        },
        "id": "v7baln0u4dLC",
        "outputId": "47681aeb-2e2a-49c4-80fe-ba11b392bd2a"
      },
      "execution_count": 18,
      "outputs": [
        {
          "output_type": "stream",
          "name": "stdout",
          "text": [
            "image_0.jpg   image_12.jpg  image_1.jpg  image_4.jpg  image_7.jpg\n",
            "image_10.jpg  image_13.jpg  image_2.jpg  image_5.jpg  image_8.jpg\n",
            "image_11.jpg  image_14.jpg  image_3.jpg  image_6.jpg  image_9.jpg\n"
          ]
        }
      ]
    },
    {
      "cell_type": "code",
      "source": [
        "%cd imgs/Q7254 "
      ],
      "metadata": {
        "colab": {
          "base_uri": "https://localhost:8080/"
        },
        "id": "NYzKhApX65pn",
        "outputId": "02e7b9f2-5167-47bf-b818-5747231cfc6d"
      },
      "execution_count": 15,
      "outputs": [
        {
          "output_type": "stream",
          "name": "stdout",
          "text": [
            "/content/imgs/Q7254\n"
          ]
        }
      ]
    },
    {
      "cell_type": "code",
      "source": [
        "!ls -lh"
      ],
      "metadata": {
        "colab": {
          "base_uri": "https://localhost:8080/"
        },
        "id": "8VPY1Nn96mRt",
        "outputId": "22f9f9ed-3b92-41f0-b273-61a0fbaa2895"
      },
      "execution_count": 23,
      "outputs": [
        {
          "output_type": "stream",
          "name": "stdout",
          "text": [
            "total 100K\n",
            "-rw-r--r-- 1 root root  15K Aug 25 07:23 image_0.jpg\n",
            "-rw-r--r-- 1 root root 3.8K Aug 25 07:23 image_10.jpg\n",
            "-rw-r--r-- 1 root root 5.2K Aug 25 07:23 image_11.jpg\n",
            "-rw-r--r-- 1 root root 3.7K Aug 25 07:23 image_12.jpg\n",
            "-rw-r--r-- 1 root root 6.8K Aug 25 07:23 image_13.jpg\n",
            "-rw-r--r-- 1 root root 4.0K Aug 25 07:23 image_14.jpg\n",
            "-rw-r--r-- 1 root root 4.2K Aug 25 07:23 image_1.jpg\n",
            "-rw-r--r-- 1 root root 3.1K Aug 25 07:23 image_2.jpg\n",
            "-rw-r--r-- 1 root root 3.3K Aug 25 07:23 image_3.jpg\n",
            "-rw-r--r-- 1 root root 3.5K Aug 25 07:23 image_4.jpg\n",
            "-rw-r--r-- 1 root root 5.2K Aug 25 07:23 image_5.jpg\n",
            "-rw-r--r-- 1 root root 4.2K Aug 25 07:23 image_6.jpg\n",
            "-rw-r--r-- 1 root root 3.1K Aug 25 07:23 image_7.jpg\n",
            "-rw-r--r-- 1 root root 5.4K Aug 25 07:23 image_8.jpg\n",
            "-rw-r--r-- 1 root root 5.2K Aug 25 07:23 image_9.jpg\n"
          ]
        }
      ]
    },
    {
      "cell_type": "code",
      "source": [
        "    "
      ],
      "metadata": {
        "id": "7Qi_Piz96sHO"
      },
      "execution_count": null,
      "outputs": []
    }
  ]
}