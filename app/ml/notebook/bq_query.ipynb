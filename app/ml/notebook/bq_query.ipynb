{
  "nbformat": 4,
  "nbformat_minor": 0,
  "metadata": {
    "colab": {
      "provenance": []
    },
    "kernelspec": {
      "name": "python3",
      "display_name": "Python 3"
    },
    "language_info": {
      "name": "python"
    }
  },
  "cells": [
    {
      "cell_type": "code",
      "source": [
        "from google.colab import auth\n",
        "auth.authenticate_user()"
      ],
      "metadata": {
        "id": "O0LrPZuvnQfa"
      },
      "execution_count": null,
      "outputs": []
    },
    {
      "cell_type": "code",
      "execution_count": null,
      "metadata": {
        "id": "hvDhpIoVnHcD"
      },
      "outputs": [],
      "source": [
        "# function to query for BQ\n",
        "\n",
        "location = \"asia-northeast1\"\n",
        "client = bigquery.Client(location=location, project=\"root-beanbag-354111\")\n",
        "print(\"Client creating using default project: {}\".format(client.project))\n",
        "\n",
        "def query2df(query):\n",
        "    query = query\n",
        "    query_job = client.query(\n",
        "        query,\n",
        "        # Location must match that of the dataset(s) referenced in the query.\n",
        "        location=location\n",
        "    )  # API request - starts the query\n",
        "\n",
        "    df = query_job.to_dataframe()\n",
        "    return df"
      ]
    },
    {
      "cell_type": "code",
      "source": [
        "# take table used in this project\n",
        "\n",
        "query = \"\"\"\n",
        "    WITH \n",
        "        full_table AS (\n",
        "            SELECT ip.img_id, ip.path, iw.wikidata_id, n.name\n",
        "            FROM `root-beanbag-354111.scraping_dog_breeds_by_name.img_path` AS ip\n",
        "            INNER JOIN `root-beanbag-354111.scraping_dog_breeds_by_name.img_wikidata_id` AS iw\n",
        "            USING(img_id)\n",
        "            INNER JOIN `root-beanbag-354111.scraping_dog_breeds_by_name.names` AS n\n",
        "            USING(wikidata_id)),\n",
        "        has_morethan3imgs AS (\n",
        "            SELECT wikidata_id, COUNT(wikidata_id)\n",
        "            FROM full_table\n",
        "            GROUP BY wikidata_id\n",
        "            HAVING COUNT(wikidata_id) >= 3)\n",
        "    SELECT img_id, path, wikidata_id, name\n",
        "    FROM full_table\n",
        "    INNER JOIN has_morethan3imgs USING(wikidata_id)\n",
        "\"\"\"\n",
        "df = query2df(query)\n",
        "df.head()"
      ],
      "metadata": {
        "id": "E_WYnBIWnTaN"
      },
      "execution_count": null,
      "outputs": []
    },
    {
      "cell_type": "code",
      "source": [
        "def get_train_file_path(path):\n",
        "    return \"./\" + str(Path(DATA_DIR) / Path(path))"
      ],
      "metadata": {
        "id": "iJO_lZYWnX-E"
      },
      "execution_count": null,
      "outputs": []
    },
    {
      "cell_type": "code",
      "source": [
        "# convert to this project's image path\n",
        "df['file_path'] = df['path'].apply(get_train_file_path)\n",
        "df.head()"
      ],
      "metadata": {
        "id": "H4LRfWmFnYYw"
      },
      "execution_count": null,
      "outputs": []
    }
  ]
}