{
  "nbformat": 4,
  "nbformat_minor": 0,
  "metadata": {
    "colab": {
      "provenance": []
    },
    "kernelspec": {
      "name": "python3",
      "display_name": "Python 3"
    },
    "language_info": {
      "name": "python"
    }
  },
  "cells": [
    {
      "cell_type": "code",
      "source": [
        "!pip install hydra-core --upgrade "
      ],
      "metadata": {
        "id": "1tZzJTUBX37L"
      },
      "execution_count": null,
      "outputs": []
    },
    {
      "cell_type": "code",
      "source": [
        "import hydra\n",
        "from omegaconf import DictConfig"
      ],
      "metadata": {
        "id": "AHnRds4AXvLw"
      },
      "execution_count": null,
      "outputs": []
    },
    {
      "cell_type": "code",
      "execution_count": null,
      "metadata": {
        "id": "HeEKrxADXpqQ"
      },
      "outputs": [],
      "source": [
        "@hydra.main(config_path=\".\", config_name=\"config\")\n",
        "def main(cfg: DictConfig):\n",
        "  print(cfg)"
      ]
    },
    {
      "cell_type": "code",
      "source": [
        "if __name__ == \"__main__\":\n",
        "    main()"
      ],
      "metadata": {
        "id": "CT_rDSIpXruu"
      },
      "execution_count": null,
      "outputs": []
    }
  ]
}