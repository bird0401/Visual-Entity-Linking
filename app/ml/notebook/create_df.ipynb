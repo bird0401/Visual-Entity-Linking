{
  "nbformat": 4,
  "nbformat_minor": 0,
  "metadata": {
    "colab": {
      "provenance": []
    },
    "kernelspec": {
      "name": "python3",
      "display_name": "Python 3"
    },
    "language_info": {
      "name": "python"
    }
  },
  "cells": [
    {
      "cell_type": "code",
      "source": [
        "# ATTENTION: execute more than once create non-needed directory owing to current directory change\n",
        "!git clone https://github.com/bird0401/Instance_level_recognition.git"
      ],
      "metadata": {
        "id": "Bfjb61Crn0JI"
      },
      "execution_count": null,
      "outputs": []
    },
    {
      "cell_type": "code",
      "source": [
        "%cd /content/Instance_level_recognition/app/ml\n",
        "%ls"
      ],
      "metadata": {
        "id": "ZwkTYdSPn09I"
      },
      "execution_count": null,
      "outputs": []
    },
    {
      "cell_type": "code",
      "source": [
        "from google.colab import auth\n",
        "auth.authenticate_user()"
      ],
      "metadata": {
        "id": "PG_EbdZVn1Bl"
      },
      "execution_count": null,
      "outputs": []
    },
    {
      "cell_type": "code",
      "source": [
        "! echo \"deb http://packages.cloud.google.com/apt gcsfuse-`lsb_release -c -s` main\" |sudo tee /etc/apt/sources.list.d/gcsfuse.list\n",
        "! curl https://packages.cloud.google.com/apt/doc/apt-key.gpg | sudo apt-key add -\n",
        "! apt-get -y -q update\n",
        "! apt-get -y -q install gcsfuse"
      ],
      "metadata": {
        "id": "JYXkT7RFn1Gd"
      },
      "execution_count": null,
      "outputs": []
    },
    {
      "cell_type": "code",
      "source": [
        "! mkdir -p ./data\n",
        "! gcsfuse --implicit-dirs --limit-bytes-per-sec -1 --limit-ops-per-sec -1 entity_dogs ./data"
      ],
      "metadata": {
        "id": "GNM3de5en1Kz"
      },
      "execution_count": null,
      "outputs": []
    },
    {
      "cell_type": "code",
      "execution_count": null,
      "metadata": {
        "id": "6cAQYm5vng7E"
      },
      "outputs": [],
      "source": [
        "# get file paths\n",
        "import glob\n",
        "l = glob.glob('/content/Instance_level_recognition/app/ml/data/imgs/**/*')"
      ]
    },
    {
      "cell_type": "code",
      "source": [
        "df = pd.DataFrame(l, columns=[\"path\"])\n",
        "df.head()"
      ],
      "metadata": {
        "id": "z_CSsD0Bni1l"
      },
      "execution_count": null,
      "outputs": []
    },
    {
      "cell_type": "code",
      "source": [
        "def get_wikidata_id(path):\n",
        "  return path.split(\"/\")[-2]"
      ],
      "metadata": {
        "id": "U2NtRP9knj_W"
      },
      "execution_count": null,
      "outputs": []
    },
    {
      "cell_type": "code",
      "source": [
        "df['wikidata_id'] = df['path'].apply(get_wikidata_id)\n",
        "df.head()"
      ],
      "metadata": {
        "id": "XRHqJOsEnkfO"
      },
      "execution_count": null,
      "outputs": []
    },
    {
      "cell_type": "code",
      "source": [
        "# extract only label which has more than or equal to 3 images \n",
        "vc = df['wikidata_id'].value_counts()\n",
        "used_wikidata_id = vc[vc >= 3].index\n",
        "df = df[df[\"wikidata_id\"].isin(used_wikidata_id)]"
      ],
      "metadata": {
        "id": "4ouxxXPDnk2L"
      },
      "execution_count": null,
      "outputs": []
    },
    {
      "cell_type": "code",
      "source": [
        "encoder = LabelEncoder()\n",
        "df['label'] = encoder.fit_transform(df['wikidata_id'])\n",
        "df.head()"
      ],
      "metadata": {
        "id": "S7UEdHC6nk5x"
      },
      "execution_count": null,
      "outputs": []
    },
    {
      "cell_type": "code",
      "source": [
        "with open(\"le.pkl\", \"wb\") as fp:\n",
        "    joblib.dump(encoder, fp)\n",
        "len(df.label)"
      ],
      "metadata": {
        "id": "YHyCJWCZn0v4"
      },
      "execution_count": null,
      "outputs": []
    },
    {
      "cell_type": "code",
      "source": [
        "df.to_csv(\"/content/Instance_level_recognition/app/ml/data/path_label.csv\")"
      ],
      "metadata": {
        "id": "SVlPQUzRnk9U"
      },
      "execution_count": null,
      "outputs": []
    },
    {
      "cell_type": "code",
      "source": [
        "train_val_indices, test_indices = train_test_split(list(range(len(df.label))), test_size=0.2, stratify=df.label)\n",
        "df.loc[train_val_indices, \"is_train_val\"] = 1\n",
        "df.loc[test_indices, \"is_train_val\"] = 0\n",
        "df_train, df_test = df[df[\"is_train_val\"] == 1].reset_index(), df[df[\"is_train_val\"] == 0].reset_index()\n",
        "len(df_train), len(df_test)"
      ],
      "metadata": {
        "id": "stkINWsBsgDt"
      },
      "execution_count": null,
      "outputs": []
    },
    {
      "cell_type": "code",
      "source": [
        "skf = StratifiedKFold(n_splits=CONFIG['n_fold'])\n",
        "for fold, ( _, val_) in enumerate(skf.split(X=df_train, y=df_train.label)):\n",
        "      df_train.loc[val_ , \"kfold\"] = fold\n",
        "df_train.head()"
      ],
      "metadata": {
        "id": "IRPeO4DTsiKX"
      },
      "execution_count": null,
      "outputs": []
    },
    {
      "cell_type": "code",
      "source": [
        "df_train.to_csv(\"/content/Instance_level_recognition/app/ml/data/train.csv\")\n",
        "df_test.to_csv(\"/content/Instance_level_recognition/app/ml/data/test.csv\")"
      ],
      "metadata": {
        "id": "xS6n2oKdsjsE"
      },
      "execution_count": null,
      "outputs": []
    }
  ]
}