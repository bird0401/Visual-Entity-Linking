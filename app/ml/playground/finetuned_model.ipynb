{
  "cells": [
    {
      "cell_type": "code",
      "execution_count": null,
      "id": "3be08d65-e27f-41a1-96cf-c8717a4faa1c",
      "metadata": {
        "id": "3be08d65-e27f-41a1-96cf-c8717a4faa1c"
      },
      "outputs": [],
      "source": [
        "import tensorflow as tf\n",
        "from tensorflow.keras import models,layers\n",
        "from tensorflow.keras.applications import VGG16\n",
        "\n",
        "import numpy as np\n",
        "import pandas as pd\n",
        "import matplotlib.pyplot as plt\n",
        "\n",
        "from PIL import Image\n",
        "import glob"
      ]
    },
    {
      "cell_type": "code",
      "source": [
        "# from google.colab import drive\n",
        "# drive.mount('/content/drive')"
      ],
      "metadata": {
        "id": "qR-wgGALrby4"
      },
      "id": "qR-wgGALrby4",
      "execution_count": null,
      "outputs": []
    },
    {
      "cell_type": "code",
      "source": [
        "# from google.colab import auth\n",
        "# auth.authenticate_user()"
      ],
      "metadata": {
        "id": "S46kOoKKsxDT"
      },
      "id": "S46kOoKKsxDT",
      "execution_count": null,
      "outputs": []
    },
    {
      "cell_type": "code",
      "source": [
        "# frame.head()"
      ],
      "metadata": {
        "id": "U7dZs1GotZXb"
      },
      "id": "U7dZs1GotZXb",
      "execution_count": null,
      "outputs": []
    },
    {
      "cell_type": "code",
      "execution_count": null,
      "id": "66f58b79-eba3-40c2-9d9a-f3fdeaff753a",
      "metadata": {
        "id": "66f58b79-eba3-40c2-9d9a-f3fdeaff753a"
      },
      "outputs": [],
      "source": [
        "from collections import defaultdict"
      ]
    },
    {
      "cell_type": "code",
      "execution_count": null,
      "id": "fec55f38-2120-4489-8f2f-290f70b054b9",
      "metadata": {
        "id": "fec55f38-2120-4489-8f2f-290f70b054b9"
      },
      "outputs": [],
      "source": [
        "from sklearn.model_selection import train_test_split"
      ]
    },
    {
      "cell_type": "code",
      "execution_count": null,
      "id": "37b430b8-1323-40e6-b50c-e2e5072da9af",
      "metadata": {
        "colab": {
          "base_uri": "https://localhost:8080/"
        },
        "id": "37b430b8-1323-40e6-b50c-e2e5072da9af",
        "outputId": "36143715-cd09-4368-fa55-963459723d15"
      },
      "outputs": [
        {
          "output_type": "stream",
          "name": "stdout",
          "text": [
            "2.8.0\n"
          ]
        }
      ],
      "source": [
        "print(tf.__version__)"
      ]
    },
    {
      "cell_type": "markdown",
      "id": "76bcdb77-dd09-49f2-9e41-c1e6efe51ecb",
      "metadata": {
        "id": "76bcdb77-dd09-49f2-9e41-c1e6efe51ecb"
      },
      "source": [
        "# 前処理"
      ]
    },
    {
      "cell_type": "code",
      "execution_count": 1,
      "id": "253e647a-d745-4fed-bbce-b228814efaa5",
      "metadata": {
        "id": "253e647a-d745-4fed-bbce-b228814efaa5"
      },
      "outputs": [],
      "source": [
        "# table=\"bquxjob_5f67a588_17f8c6d5415.csv\"\n",
        "# df=pd.read_csv(table)\n",
        "# df.head()"
      ]
    },
    {
      "cell_type": "code",
      "execution_count": 2,
      "id": "20bdcc4f-5c55-438e-a1e0-48ddb724bfff",
      "metadata": {
        "id": "20bdcc4f-5c55-438e-a1e0-48ddb724bfff"
      },
      "outputs": [],
      "source": [
        "# df=df[df[\"illust_tag\"].isin(tags)]\n",
        "# df.head(100)"
      ]
    },
    {
      "cell_type": "code",
      "execution_count": null,
      "id": "3d85a2ac-4599-4f07-a6c4-13d0b05485f7",
      "metadata": {
        "colab": {
          "base_uri": "https://localhost:8080/"
        },
        "id": "3d85a2ac-4599-4f07-a6c4-13d0b05485f7",
        "outputId": "90f4bd55-1b93-47ff-d253-c74d86f1cd76"
      },
      "outputs": [
        {
          "output_type": "execute_result",
          "data": {
            "text/plain": [
              "300"
            ]
          },
          "metadata": {},
          "execution_count": 141
        }
      ],
      "source": [
        "# len(df)"
      ]
    },
    {
      "cell_type": "code",
      "execution_count": 3,
      "id": "2786e255-91b8-46d1-a9b4-31093da591c2",
      "metadata": {
        "id": "2786e255-91b8-46d1-a9b4-31093da591c2"
      },
      "outputs": [],
      "source": [
        "# tags=df[\"illust_tag\"]\n",
        "# paths=df[\"img_path\"]\n",
        "\n",
        "\n",
        "# files=[]\n",
        "# for path in paths:\n",
        "#     file=path.split(\"/\")[6]\n",
        "#     files.append(file)\n",
        "    \n",
        "# file_tag_dic=defaultdict(str)\n",
        "# for tag,file in zip(tags,files):\n",
        "#     file_tag_dic[file]=tag"
      ]
    },
    {
      "cell_type": "code",
      "execution_count": 4,
      "id": "4d0669be-8b5c-4eff-8e82-1a2ae86b5c85",
      "metadata": {
        "id": "4d0669be-8b5c-4eff-8e82-1a2ae86b5c85"
      },
      "outputs": [],
      "source": [
        "# set(tags)"
      ]
    },
    {
      "cell_type": "code",
      "execution_count": 5,
      "id": "f31acaae-f56c-452f-8637-2b07c1dfc288",
      "metadata": {
        "id": "f31acaae-f56c-452f-8637-2b07c1dfc288"
      },
      "outputs": [],
      "source": [
        "# len(file_tag_dic)"
      ]
    },
    {
      "cell_type": "code",
      "execution_count": null,
      "id": "09f4d960-2a1b-4920-a904-b185a3c178d3",
      "metadata": {
        "id": "09f4d960-2a1b-4920-a904-b185a3c178d3"
      },
      "outputs": [],
      "source": [
        "# image=np.array(Image.open(\"86738243_p0_master1200.jpeg\").convert(\"RGB\").resize((224, 224)))"
      ]
    },
    {
      "cell_type": "code",
      "execution_count": null,
      "id": "120aefdf-86cb-4b2c-8a43-a0eeee684aa4",
      "metadata": {
        "id": "120aefdf-86cb-4b2c-8a43-a0eeee684aa4"
      },
      "outputs": [],
      "source": [
        "paths = glob.glob('./images/*.jpg')"
      ]
    },
    {
      "cell_type": "code",
      "source": [
        "# paths[:10]"
      ],
      "metadata": {
        "id": "MQk0f5ehx0FA"
      },
      "id": "MQk0f5ehx0FA",
      "execution_count": 6,
      "outputs": []
    },
    {
      "cell_type": "code",
      "source": [
        "# paths[1].split(\"/\")"
      ],
      "metadata": {
        "id": "ELn3R5lkx8Xn"
      },
      "id": "ELn3R5lkx8Xn",
      "execution_count": 7,
      "outputs": []
    },
    {
      "cell_type": "code",
      "execution_count": 8,
      "id": "b62e3841-faf6-44e6-81ea-a65ad7c8a64f",
      "metadata": {
        "tags": [],
        "id": "b62e3841-faf6-44e6-81ea-a65ad7c8a64f"
      },
      "outputs": [],
      "source": [
        "# imgs,tags=[],[]\n",
        "# for path in paths:\n",
        "#     try:\n",
        "#         _,_,file_name=path.split(\"/\")\n",
        "#         if file_name not in file_tag_dic.keys():continue\n",
        "#         img=np.array(Image.open(path).convert(\"RGB\").resize((224, 224)))\n",
        "#     except Exception as e:\n",
        "#         print(e)\n",
        "#     else:\n",
        "#         imgs.append(img.reshape(224, 224, 3))\n",
        "#         file_name=path.split(\"/\")[2]\n",
        "#         tags.append(file_tag_dic[file_name])"
      ]
    },
    {
      "cell_type": "code",
      "execution_count": null,
      "id": "7084b274-4218-449d-b8c8-d3cc2cdf8f5f",
      "metadata": {
        "id": "7084b274-4218-449d-b8c8-d3cc2cdf8f5f"
      },
      "outputs": [],
      "source": [
        "# tags=np.array(tags)"
      ]
    },
    {
      "cell_type": "code",
      "source": [
        "# tags"
      ],
      "metadata": {
        "id": "se_bhplXxLbz"
      },
      "id": "se_bhplXxLbz",
      "execution_count": 9,
      "outputs": []
    },
    {
      "cell_type": "code",
      "execution_count": null,
      "id": "4f2c3702-f65a-4471-baea-ed9cce15da8c",
      "metadata": {
        "id": "4f2c3702-f65a-4471-baea-ed9cce15da8c"
      },
      "outputs": [],
      "source": [
        "from sklearn import preprocessing\n",
        "le = preprocessing.LabelEncoder()\n",
        "\n",
        "tags_id = le.fit_transform(tags)"
      ]
    },
    {
      "cell_type": "code",
      "source": [
        "tags_id"
      ],
      "metadata": {
        "colab": {
          "base_uri": "https://localhost:8080/"
        },
        "id": "LbtqUrO5wtZt",
        "outputId": "7f210c0b-d769-4266-e7e2-3a60f3ffbacd"
      },
      "id": "LbtqUrO5wtZt",
      "execution_count": null,
      "outputs": [
        {
          "output_type": "execute_result",
          "data": {
            "text/plain": [
              "array([7, 2, 3, 7, 2, 1, 4, 4, 5, 0, 7, 0, 8, 6, 3, 0, 2, 4, 1, 6, 9, 9,\n",
              "       5, 2, 5, 2, 7, 3, 1, 2, 2, 9, 0, 0, 3, 3, 2, 6, 2, 2, 5, 9, 0, 4,\n",
              "       9, 9, 1, 1, 6, 3, 0, 9, 2, 2, 0, 3, 4, 5, 2, 8, 5, 2, 0, 7, 0, 1,\n",
              "       3, 4, 1, 0, 8, 4, 6, 4, 4, 6, 8, 2, 6, 8, 6, 3, 8, 5, 2, 5, 8, 4,\n",
              "       4, 6, 0, 6, 2, 4, 4, 0, 5, 3, 2, 1, 7, 1, 8, 2, 2, 1, 3, 0, 1, 5,\n",
              "       3, 3, 7, 6, 4, 6, 7, 9, 6, 9, 6, 7, 7, 8, 9, 7, 4, 3, 7, 1, 9, 4,\n",
              "       8, 9, 1, 5, 4, 2, 7, 9, 2, 9, 0, 8, 4, 8, 3, 6, 7, 9, 4, 3, 9, 7,\n",
              "       1, 4, 6, 3, 7, 9, 2, 1, 8, 3, 4, 0, 8, 1, 3, 5, 8, 6, 4, 1, 1, 0,\n",
              "       6, 0, 7, 0, 6, 4, 5, 5, 9, 5, 6, 6, 1, 8, 7, 8, 8, 3, 9, 7, 8, 8,\n",
              "       7, 3, 4, 8, 3, 8, 0, 1, 5, 7, 6, 4, 9, 3, 7, 4, 4, 5, 8, 0, 1, 0,\n",
              "       5, 0, 6, 6, 5, 9, 3, 9, 9, 9, 0, 0, 2, 5, 9, 5, 0, 9, 2, 1, 3, 9,\n",
              "       7, 8, 9, 5, 0, 5, 3, 5, 6, 4, 5, 1, 9, 7, 1, 1, 7, 7, 8, 5, 3, 8,\n",
              "       6, 1, 7, 0, 6, 6, 4, 2, 8, 8, 4, 5, 7, 6, 5, 8, 5, 5, 1, 1, 2, 1,\n",
              "       2, 6, 1, 0, 8, 3])"
            ]
          },
          "metadata": {},
          "execution_count": 194
        }
      ]
    },
    {
      "cell_type": "code",
      "execution_count": null,
      "id": "5e770f13-5f4e-449d-b6da-e76fcba10685",
      "metadata": {
        "id": "5e770f13-5f4e-449d-b6da-e76fcba10685"
      },
      "outputs": [],
      "source": [
        "tags_id=np.array(tags_id)"
      ]
    },
    {
      "cell_type": "code",
      "execution_count": 10,
      "id": "3a258298-17ff-4014-82ca-8fae23a3eeaf",
      "metadata": {
        "id": "3a258298-17ff-4014-82ca-8fae23a3eeaf"
      },
      "outputs": [],
      "source": [
        "# tags[:20]"
      ]
    },
    {
      "cell_type": "code",
      "execution_count": null,
      "id": "5db115bc-5704-454f-a873-703a43fcf0f6",
      "metadata": {
        "colab": {
          "base_uri": "https://localhost:8080/"
        },
        "id": "5db115bc-5704-454f-a873-703a43fcf0f6",
        "outputId": "270cdd02-cc18-4df4-e5f3-acb6e96b6708"
      },
      "outputs": [
        {
          "output_type": "execute_result",
          "data": {
            "text/plain": [
              "array([7, 2, 3, 7, 2, 1, 4, 4, 5, 0, 7, 0, 8, 6, 3, 0, 2, 4, 1, 6])"
            ]
          },
          "metadata": {},
          "execution_count": 197
        }
      ],
      "source": [
        "tags_id[:20]"
      ]
    },
    {
      "cell_type": "markdown",
      "id": "0e522894-9ca4-453d-801e-ad798b8e4b1f",
      "metadata": {
        "id": "0e522894-9ca4-453d-801e-ad798b8e4b1f"
      },
      "source": [
        "# データセット"
      ]
    },
    {
      "cell_type": "code",
      "source": [
        "from tensorflow.keras.utils import to_categorical\n",
        "from tensorflow.keras.callbacks import ReduceLROnPlateau,EarlyStopping\n",
        "import datetime\n",
        "\n",
        "from tensorflow.keras.preprocessing.image import ImageDataGenerator\n",
        "from sklearn.model_selection import train_test_split\n",
        "# import tensorflow_addons as tfa"
      ],
      "metadata": {
        "id": "PKyhDLBzoMOT"
      },
      "execution_count": null,
      "outputs": [],
      "id": "PKyhDLBzoMOT"
    },
    {
      "cell_type": "code",
      "source": [
        "import random\n",
        "def reset_seed(seed=0):\n",
        "  random.seed(seed)\n",
        "  np.random.seed(seed)\n",
        "  tf.random.set_seed(seed)"
      ],
      "metadata": {
        "id": "yBNVDbzUoMOe"
      },
      "execution_count": null,
      "outputs": [],
      "id": "yBNVDbzUoMOe"
    },
    {
      "cell_type": "code",
      "source": [
        "# 変数定義\n",
        "image_size = 224 \n",
        "input_shape=(image_size,image_size,3)\n",
        "num_classes = len(set(tags)"
      ],
      "metadata": {
        "id": "15L-tfO6zgll"
      },
      "id": "15L-tfO6zgll",
      "execution_count": null,
      "outputs": []
    },
    {
      "cell_type": "code",
      "source": [
        "# X_train,y_train=image.reshape(-1, 224, 224, 3),np.array([0])\n",
        "# X_test,y_test=image.reshape(-1, 224, 224, 3),np.array([0])\n",
        "X_train,X_test,y_train,y_test=train_test_split(imgs,tags_id,test_size=0.2,random_state=123,shuffle=True,stratify=tags)\n",
        "X_train,y_train,X_test,y_test=np.array(X_train,dtype=\"float32\"),np.array(y_train),np.array(X_test,dtype=\"float32\"),np.array(y_test)\n",
        "X_train, X_test = X_train/255.0, X_test/255.0"
      ],
      "metadata": {
        "id": "Dsfm5kuK0O6G"
      },
      "id": "Dsfm5kuK0O6G",
      "execution_count": null,
      "outputs": []
    },
    {
      "cell_type": "code",
      "source": [
        "X_train.shape,y_train.shape,X_test.shape,y_test.shape"
      ],
      "metadata": {
        "id": "jhJ-tmj30Q0f"
      },
      "id": "jhJ-tmj30Q0f",
      "execution_count": null,
      "outputs": []
    },
    {
      "cell_type": "markdown",
      "source": [
        "# モデル"
      ],
      "metadata": {
        "id": "irkOTjr2zrC8"
      },
      "id": "irkOTjr2zrC8"
    },
    {
      "cell_type": "markdown",
      "id": "ef592311-c26f-4606-bcd2-f85b0931f631",
      "metadata": {
        "id": "ef592311-c26f-4606-bcd2-f85b0931f631"
      },
      "source": [
        "# 学習"
      ]
    },
    {
      "cell_type": "code",
      "execution_count": null,
      "id": "d939f6bb-e3b7-488b-9e2c-16b6766553ec",
      "metadata": {
        "tags": [],
        "id": "d939f6bb-e3b7-488b-9e2c-16b6766553ec",
        "outputId": "d25404f0-0755-47eb-898f-5d64c436da4f"
      },
      "outputs": [
        {
          "name": "stdout",
          "output_type": "stream",
          "text": [
            "Epoch 1/10\n",
            "8/8 [==============================] - 27s 2s/step - loss: 3.2208 - accuracy: 0.1030 - val_loss: 508181.0938 - val_accuracy: 0.1017\n",
            "Epoch 2/10\n",
            "8/8 [==============================] - 16s 2s/step - loss: 2.4653 - accuracy: 0.1545 - val_loss: 98660.4609 - val_accuracy: 0.1186\n",
            "Epoch 3/10\n",
            "8/8 [==============================] - 16s 2s/step - loss: 2.1511 - accuracy: 0.2489 - val_loss: 8919.3750 - val_accuracy: 0.0847\n",
            "Epoch 4/10\n",
            "8/8 [==============================] - 15s 2s/step - loss: 2.2138 - accuracy: 0.1974 - val_loss: 1728.2582 - val_accuracy: 0.1017\n",
            "Epoch 5/10\n",
            "8/8 [==============================] - 15s 2s/step - loss: 2.0162 - accuracy: 0.3090 - val_loss: 4466.6650 - val_accuracy: 0.1017\n",
            "Epoch 6/10\n",
            "8/8 [==============================] - 15s 2s/step - loss: 1.8621 - accuracy: 0.3348 - val_loss: 12475.0957 - val_accuracy: 0.1356\n",
            "Epoch 7/10\n",
            "8/8 [==============================] - 15s 2s/step - loss: 1.9200 - accuracy: 0.3562 - val_loss: 801.1633 - val_accuracy: 0.0847\n",
            "Epoch 8/10\n",
            "8/8 [==============================] - 15s 2s/step - loss: 1.6630 - accuracy: 0.4421 - val_loss: 13635.6641 - val_accuracy: 0.1017\n",
            "Epoch 9/10\n",
            "8/8 [==============================] - 15s 2s/step - loss: 1.6328 - accuracy: 0.4120 - val_loss: 879.1884 - val_accuracy: 0.1017\n",
            "Epoch 10/10\n",
            "8/8 [==============================] - 15s 2s/step - loss: 1.4451 - accuracy: 0.4807 - val_loss: 224355.6875 - val_accuracy: 0.1017\n"
          ]
        }
      ],
      "source": [
        "history=finetuned_model.fit(X_train,y_train,batch_size=batch_size,epochs=epochs,verbose=1,validation_data=(X_test,y_test))"
      ]
    },
    {
      "cell_type": "code",
      "execution_count": null,
      "id": "54ecd9d7-41ae-49c3-b520-dff079535d90",
      "metadata": {
        "id": "54ecd9d7-41ae-49c3-b520-dff079535d90"
      },
      "outputs": [],
      "source": [
        "X_test.shape"
      ]
    },
    {
      "cell_type": "code",
      "execution_count": null,
      "id": "b2532c0d-beac-47b0-a56f-2d81e6cfcc85",
      "metadata": {
        "id": "b2532c0d-beac-47b0-a56f-2d81e6cfcc85"
      },
      "outputs": [],
      "source": [
        "type(X_test[0])"
      ]
    },
    {
      "cell_type": "code",
      "execution_count": null,
      "id": "7d938ef8-8dbe-417f-a442-6d33fdb8ed7d",
      "metadata": {
        "tags": [],
        "id": "7d938ef8-8dbe-417f-a442-6d33fdb8ed7d"
      },
      "outputs": [],
      "source": [
        "pil_img=Image.fromarray(X_test[0])"
      ]
    },
    {
      "cell_type": "code",
      "execution_count": null,
      "id": "c64f6902-24cb-4c34-b7ba-57862654cebf",
      "metadata": {
        "tags": [],
        "id": "c64f6902-24cb-4c34-b7ba-57862654cebf"
      },
      "outputs": [],
      "source": [
        "predictions=finetuned_model.predict(X_test[:20])\n",
        "# predictions\n",
        "[np.argmax(p) for p in predictions[:50]]"
      ]
    },
    {
      "cell_type": "code",
      "execution_count": null,
      "id": "0bce1e26-c9f9-46a3-93fb-630655087fcf",
      "metadata": {
        "id": "0bce1e26-c9f9-46a3-93fb-630655087fcf"
      },
      "outputs": [],
      "source": [
        "y_test[0]"
      ]
    },
    {
      "cell_type": "code",
      "execution_count": null,
      "id": "9ea41189-966a-464b-8e37-dcca23a0f542",
      "metadata": {
        "tags": [],
        "id": "9ea41189-966a-464b-8e37-dcca23a0f542"
      },
      "outputs": [],
      "source": [
        "X_train[0]"
      ]
    },
    {
      "cell_type": "code",
      "execution_count": null,
      "id": "ecc1803f-f30e-49f2-8ca6-ecdb5b2daf3f",
      "metadata": {
        "id": "ecc1803f-f30e-49f2-8ca6-ecdb5b2daf3f"
      },
      "outputs": [],
      "source": [
        "y_train"
      ]
    },
    {
      "cell_type": "code",
      "execution_count": null,
      "id": "6ac7f41e-5519-4811-8153-447e8ec3a5bb",
      "metadata": {
        "tags": [],
        "id": "6ac7f41e-5519-4811-8153-447e8ec3a5bb"
      },
      "outputs": [],
      "source": [
        "X_test[0]"
      ]
    },
    {
      "cell_type": "code",
      "execution_count": null,
      "id": "bae7b51c-4720-4932-84f8-8b8894cadf4e",
      "metadata": {
        "tags": [],
        "id": "bae7b51c-4720-4932-84f8-8b8894cadf4e"
      },
      "outputs": [],
      "source": [
        "y_test"
      ]
    },
    {
      "cell_type": "code",
      "execution_count": null,
      "id": "b2014c9d-3cf1-475b-9c7a-c760a6801f47",
      "metadata": {
        "id": "b2014c9d-3cf1-475b-9c7a-c760a6801f47"
      },
      "outputs": [],
      "source": [
        "results=pd.DataFrame(history.history)\n",
        "results.tail(5)"
      ]
    },
    {
      "cell_type": "code",
      "execution_count": null,
      "id": "e0ecc2fe-a21f-4215-bac6-0bf397c4199c",
      "metadata": {
        "id": "e0ecc2fe-a21f-4215-bac6-0bf397c4199c"
      },
      "outputs": [],
      "source": [
        "results[[\"loss\",\"val_loss\"]].plot(title=\"loss\")\n",
        "plt.xlabel(\"epochs\")"
      ]
    },
    {
      "cell_type": "code",
      "execution_count": null,
      "id": "0ece0db2-2664-422b-8549-5835fd6d69f9",
      "metadata": {
        "id": "0ece0db2-2664-422b-8549-5835fd6d69f9"
      },
      "outputs": [],
      "source": [
        "results[[\"accuracy\",\"val_accuracy\"]].plot(title=\"accuracy\")\n",
        "plt.xlabel(\"epochs\")"
      ]
    },
    {
      "cell_type": "code",
      "execution_count": null,
      "id": "aca1d880-ff71-4ca6-a1ef-5f76557bfdb1",
      "metadata": {
        "id": "aca1d880-ff71-4ca6-a1ef-5f76557bfdb1"
      },
      "outputs": [],
      "source": [
        "finetuned_model.summary()"
      ]
    },
    {
      "cell_type": "code",
      "execution_count": null,
      "id": "c92d9464-ebd8-4fec-92e4-d0de5ea940b7",
      "metadata": {
        "id": "c92d9464-ebd8-4fec-92e4-d0de5ea940b7"
      },
      "outputs": [],
      "source": [
        ""
      ]
    },
    {
      "cell_type": "markdown",
      "id": "491ffd2b-8d3b-4387-ac59-828caaf819b3",
      "metadata": {
        "id": "491ffd2b-8d3b-4387-ac59-828caaf819b3"
      },
      "source": [
        "# オープンデータ、VGGモデルと比較してどこが悪いのか検証"
      ]
    },
    {
      "cell_type": "code",
      "source": [
        "from tensorflow.keras.utils import to_categorical\n",
        "from tensorflow.keras.callbacks import ReduceLROnPlateau,EarlyStopping\n",
        "import datetime\n",
        "\n",
        "from tensorflow.keras.preprocessing.image import ImageDataGenerator\n",
        "from sklearn.model_selection import train_test_split\n",
        "# import tensorflow_addons as tfa"
      ],
      "metadata": {
        "id": "QkrlY7FEtt22"
      },
      "id": "QkrlY7FEtt22",
      "execution_count": null,
      "outputs": []
    },
    {
      "cell_type": "code",
      "source": [
        "import random\n",
        "def reset_seed(seed=0):\n",
        "  random.seed(seed)\n",
        "  np.random.seed(seed)\n",
        "  tf.random.set_seed(seed)"
      ],
      "metadata": {
        "id": "OPnTSY9r5O2N"
      },
      "id": "OPnTSY9r5O2N",
      "execution_count": null,
      "outputs": []
    },
    {
      "cell_type": "code",
      "source": [
        "reset_seed()"
      ],
      "metadata": {
        "id": "_t9N4HdfV-GH"
      },
      "id": "_t9N4HdfV-GH",
      "execution_count": null,
      "outputs": []
    },
    {
      "cell_type": "code",
      "source": [
        "# 変数定義\n",
        "image_size = 32   #画像のサイズ（CIFAR-10は32×32）\n",
        "# image_size = 224 \n",
        "input_shape=(image_size,image_size,3)\n",
        "num_classes = 10 #画像の種類の数（CIFAR-10は10種類）\n",
        "# num_classes = len(set(tags)"
      ],
      "metadata": {
        "id": "PI0T6rZ-NkWz"
      },
      "id": "PI0T6rZ-NkWz",
      "execution_count": null,
      "outputs": []
    },
    {
      "cell_type": "code",
      "source": [
        "# CIFAR-10のインポート\n",
        "train,test = tf.keras.datasets.cifar10.load_data()"
      ],
      "metadata": {
        "id": "h6MPIoLFsWb4"
      },
      "id": "h6MPIoLFsWb4",
      "execution_count": null,
      "outputs": []
    },
    {
      "cell_type": "code",
      "source": [
        "(X_train, y_train), (X_test, y_test)=train,test"
      ],
      "metadata": {
        "id": "tuKTWMl8LOzZ"
      },
      "id": "tuKTWMl8LOzZ",
      "execution_count": null,
      "outputs": []
    },
    {
      "cell_type": "code",
      "source": [
        "from tensorflow.keras.applications.efficientnet import center_crop_and_resize, preprocess_input"
      ],
      "metadata": {
        "colab": {
          "base_uri": "https://localhost:8080/",
          "height": 369
        },
        "id": "1KhGd4w6jcUr",
        "outputId": "fed7d0cf-f5c8-410d-ce15-e07b816ac3bc"
      },
      "id": "1KhGd4w6jcUr",
      "execution_count": null,
      "outputs": [
        {
          "output_type": "error",
          "ename": "ImportError",
          "evalue": "ignored",
          "traceback": [
            "\u001b[0;31m---------------------------------------------------------------------------\u001b[0m",
            "\u001b[0;31mImportError\u001b[0m                               Traceback (most recent call last)",
            "\u001b[0;32m<ipython-input-96-45443ae58036>\u001b[0m in \u001b[0;36m<module>\u001b[0;34m()\u001b[0m\n\u001b[0;32m----> 1\u001b[0;31m \u001b[0;32mfrom\u001b[0m \u001b[0mtensorflow\u001b[0m\u001b[0;34m.\u001b[0m\u001b[0mkeras\u001b[0m\u001b[0;34m.\u001b[0m\u001b[0mapplications\u001b[0m\u001b[0;34m.\u001b[0m\u001b[0mefficientnet\u001b[0m \u001b[0;32mimport\u001b[0m \u001b[0mcenter_crop_and_resize\u001b[0m\u001b[0;34m,\u001b[0m \u001b[0mpreprocess_input\u001b[0m\u001b[0;34m\u001b[0m\u001b[0;34m\u001b[0m\u001b[0m\n\u001b[0m",
            "\u001b[0;31mImportError\u001b[0m: cannot import name 'center_crop_and_resize' from 'tensorflow.keras.applications.efficientnet' (/usr/local/lib/python3.7/dist-packages/keras/api/_v2/keras/applications/efficientnet/__init__.py)",
            "",
            "\u001b[0;31m---------------------------------------------------------------------------\u001b[0;32m\nNOTE: If your import is failing due to a missing package, you can\nmanually install dependencies using either !pip or !apt.\n\nTo view examples of installing some common dependencies, click the\n\"Open Examples\" button below.\n\u001b[0;31m---------------------------------------------------------------------------\u001b[0m\n"
          ],
          "errorDetails": {
            "actions": [
              {
                "action": "open_url",
                "actionText": "Open Examples",
                "url": "/notebooks/snippets/importing_libraries.ipynb"
              }
            ]
          }
        }
      ]
    },
    {
      "cell_type": "code",
      "source": [
        "# from tensorflow.keras import center_crop_and_resize"
      ],
      "metadata": {
        "colab": {
          "base_uri": "https://localhost:8080/",
          "height": 351
        },
        "id": "4czKulyGnImT",
        "outputId": "c819f9a0-87c9-4862-b7ee-8d00dce9c98b"
      },
      "id": "4czKulyGnImT",
      "execution_count": null,
      "outputs": [
        {
          "output_type": "error",
          "ename": "ImportError",
          "evalue": "ignored",
          "traceback": [
            "\u001b[0;31m---------------------------------------------------------------------------\u001b[0m",
            "\u001b[0;31mImportError\u001b[0m                               Traceback (most recent call last)",
            "\u001b[0;32m<ipython-input-99-2ab1758d35d3>\u001b[0m in \u001b[0;36m<module>\u001b[0;34m()\u001b[0m\n\u001b[1;32m      1\u001b[0m \u001b[0;31m# from efficientnet.keras import center_crop_and_resize\u001b[0m\u001b[0;34m\u001b[0m\u001b[0;34m\u001b[0m\u001b[0;34m\u001b[0m\u001b[0m\n\u001b[0;32m----> 2\u001b[0;31m \u001b[0;32mfrom\u001b[0m \u001b[0mtensorflow\u001b[0m\u001b[0;34m.\u001b[0m\u001b[0mkeras\u001b[0m \u001b[0;32mimport\u001b[0m \u001b[0mcenter_crop_and_resize\u001b[0m\u001b[0;34m\u001b[0m\u001b[0;34m\u001b[0m\u001b[0m\n\u001b[0m",
            "\u001b[0;31mImportError\u001b[0m: cannot import name 'center_crop_and_resize' from 'tensorflow.keras' (/usr/local/lib/python3.7/dist-packages/keras/api/_v2/keras/__init__.py)",
            "",
            "\u001b[0;31m---------------------------------------------------------------------------\u001b[0;32m\nNOTE: If your import is failing due to a missing package, you can\nmanually install dependencies using either !pip or !apt.\n\nTo view examples of installing some common dependencies, click the\n\"Open Examples\" button below.\n\u001b[0;31m---------------------------------------------------------------------------\u001b[0m\n"
          ],
          "errorDetails": {
            "actions": [
              {
                "action": "open_url",
                "actionText": "Open Examples",
                "url": "/notebooks/snippets/importing_libraries.ipynb"
              }
            ]
          }
        }
      ]
    },
    {
      "cell_type": "code",
      "source": [
        "# # RAMクラッシュ防止のため少なめに設定\n",
        "train_choice=np.random.randint(low=0,high=50000,size=3000)\n",
        "test_choice=np.random.randint(low=0,high=10000,size=500)\n",
        "X_train,y_train=X_train[train_choice],y_train[train_choice].astype(\"int8\")\n",
        "X_test,y_test=X_test[test_choice],y_test[test_choice].astype(\"int8\")\n",
        "X_train = tf.keras.applications.efficientnet.preprocess_input(X_train)\n",
        "X_test = tf.keras.applications.efficientnet.preprocess_input(X_test)"
      ],
      "metadata": {
        "id": "APP6h8k1xGOs"
      },
      "id": "APP6h8k1xGOs",
      "execution_count": null,
      "outputs": []
    },
    {
      "cell_type": "code",
      "source": [
        "# モデル定義\n",
        "## Efficientnetモデルの定義（ファインチューニング）\n",
        "# from tensorflow.keras.applications import resnet,VGG16\n",
        "def buildModel():\n",
        "  reset_seed(0)\n",
        "  # base_model=VGG16(INPUT_SHAPE = input_shape ,include_top=False,weights=\"imagenet\")\n",
        "  base_model=tf.keras.applications.EfficientNetB0(input_shape=input_shape, include_top=False, weights=\"gumigumi4f_illust2vec_models_50epoch_b0_illust2vec_efficientnetb0_notop.h5\")\n",
        "  # base_model=tf.keras.applications.EfficientNetB0(include_top=False, weights='imagenet', input_shape=input_shape)\n",
        "\n",
        "  model = models.Sequential([\n",
        "    base_model,\n",
        "    layers.GlobalAveragePooling2D(),\n",
        "    layers.Dense(num_classes, activation=\"softmax\")\n",
        "  ])\n",
        "\n",
        "  # optimizer=tf.keras.optimizers.SGD(lr=0.01)\n",
        "  # optimizer=tf.keras.optimizers.Adam(learning_rate=5e-6)\n",
        "  # optimizer=tf.keras.optimizers.SGD(lr=1e-6,momentum=0.9)\n",
        "  optimizer=tf.keras.optimizers.Adam(learning_rate=1e-4)\n",
        "\n",
        "  model.compile(optimizer=optimizer, loss=\"categorical_crossentropy\", metrics=[\"accuracy\"])\n",
        "  return model"
      ],
      "metadata": {
        "id": "NzyYrHGNl5Ez"
      },
      "id": "NzyYrHGNl5Ez",
      "execution_count": null,
      "outputs": []
    },
    {
      "cell_type": "code",
      "source": [
        "# 訓練用関数の定義\n",
        "## efficientnet用訓練関数\n",
        "# def train_efficientnet(X, y, steps_per_epoch, epochs, batch_size, callbacks):\n",
        "def train_efficientnet(X, y, epochs, batch_size, callbacks):\n",
        "    # 訓練データと評価データの分割\n",
        "    x_train, x_valid, Y_train, Y_valid = train_test_split(X, y, test_size=0.2, stratify=y, shuffle=True)\n",
        "    Y_train = to_categorical(Y_train)\n",
        "    Y_valid = to_categorical(Y_valid)\n",
        "\n",
        "    # Data Augmentation\n",
        "    # datagen = ImageDataGenerator(rotation_range=20, horizontal_flip=True, width_shift_range=0.2, zoom_range=0.2)\n",
        "    # train_generator = datagen.flow(X_train, y_train,batch_size=batch_size)\n",
        "\n",
        "    # モデル構築\n",
        "    model = buildModel()\n",
        "\n",
        "    # 学習\n",
        "    history = model.fit(\n",
        "                        x_train, Y_train,\n",
        "                        # train_generator,\n",
        "                        validation_data=(x_valid, Y_valid),\n",
        "                        batch_size=batch_size,\n",
        "                        # steps_per_epoch=steps_per_epoch,\n",
        "                        epochs=epochs,\n",
        "                        callbacks=callbacks,\n",
        "                        shuffle=True\n",
        "                       )\n",
        "    return model, history"
      ],
      "metadata": {
        "id": "B-ZjWvC0sQXv"
      },
      "id": "B-ZjWvC0sQXv",
      "execution_count": null,
      "outputs": []
    },
    {
      "cell_type": "code",
      "source": [
        "# 訓練開始\n",
        "# steps_per_epoch = 1250\n",
        "epochs = 1000\n",
        "batch_size = 32\n",
        "\n",
        "reduce_lr = ReduceLROnPlateau(monitor='val_accuracy',factor=0.2,patience=2,verbose=1,min_delta=1e-4,min_lr=1e-6,mode='max')\n",
        "earlystopping = EarlyStopping(monitor='val_accuracy', min_delta=1e-4, patience=5, mode='max', verbose=1)\n",
        "callbacks = [earlystopping, reduce_lr]\n",
        "\n",
        "print('開始時間：',datetime.datetime.now())\n",
        "\n",
        "# model, history = train_efficientnet(x_train, y_train, steps_per_epoch, epochs, batch_size, callbacks)\n",
        "finetuned_model, history = train_efficientnet(X_train, y_train, epochs, batch_size, callbacks)\n",
        "# finetuned_model, history = train_efficientnet(X1_train, y_train, epochs, batch_size, callbacks)\n",
        "# finetuned_model, history = train_efficientnet(X2_train, y_train, epochs, batch_size, callbacks)\n",
        "# model, history = train_efficientnet(x_train, y_train, epochs, batch_size, callbacks)\n",
        "\n",
        "print('終了時間：',datetime.datetime.now())"
      ],
      "metadata": {
        "colab": {
          "base_uri": "https://localhost:8080/"
        },
        "id": "E3MkNom7sJc7",
        "outputId": "2796e0a9-88f2-4b0d-bd13-a68c46a21d7f"
      },
      "id": "E3MkNom7sJc7",
      "execution_count": null,
      "outputs": [
        {
          "output_type": "stream",
          "name": "stdout",
          "text": [
            "開始時間： 2022-03-29 03:10:19.355733\n",
            "Epoch 1/1000\n",
            "75/75 [==============================] - 17s 85ms/step - loss: 2.4417 - accuracy: 0.1317 - val_loss: 2.2450 - val_accuracy: 0.1717 - lr: 1.0000e-04\n",
            "Epoch 2/1000\n",
            "75/75 [==============================] - 4s 59ms/step - loss: 2.1969 - accuracy: 0.2237 - val_loss: 2.0909 - val_accuracy: 0.1783 - lr: 1.0000e-04\n",
            "Epoch 3/1000\n",
            "75/75 [==============================] - 4s 56ms/step - loss: 2.0089 - accuracy: 0.2942 - val_loss: 1.9483 - val_accuracy: 0.3000 - lr: 1.0000e-04\n",
            "Epoch 4/1000\n",
            "75/75 [==============================] - 4s 58ms/step - loss: 1.8331 - accuracy: 0.3671 - val_loss: 1.8470 - val_accuracy: 0.3567 - lr: 1.0000e-04\n",
            "Epoch 5/1000\n",
            "75/75 [==============================] - 5s 62ms/step - loss: 1.6681 - accuracy: 0.4371 - val_loss: 1.7517 - val_accuracy: 0.4217 - lr: 1.0000e-04\n",
            "Epoch 6/1000\n",
            "75/75 [==============================] - 4s 58ms/step - loss: 1.5652 - accuracy: 0.4767 - val_loss: 1.6978 - val_accuracy: 0.4517 - lr: 1.0000e-04\n",
            "Epoch 7/1000\n",
            "75/75 [==============================] - 4s 58ms/step - loss: 1.4496 - accuracy: 0.5121 - val_loss: 1.6444 - val_accuracy: 0.4567 - lr: 1.0000e-04\n",
            "Epoch 8/1000\n",
            "75/75 [==============================] - 4s 58ms/step - loss: 1.3833 - accuracy: 0.5408 - val_loss: 1.5832 - val_accuracy: 0.4833 - lr: 1.0000e-04\n",
            "Epoch 9/1000\n",
            "75/75 [==============================] - 4s 56ms/step - loss: 1.2820 - accuracy: 0.5654 - val_loss: 1.5461 - val_accuracy: 0.4950 - lr: 1.0000e-04\n",
            "Epoch 10/1000\n",
            "75/75 [==============================] - 4s 60ms/step - loss: 1.1882 - accuracy: 0.6083 - val_loss: 1.4929 - val_accuracy: 0.5150 - lr: 1.0000e-04\n",
            "Epoch 11/1000\n",
            "75/75 [==============================] - 4s 57ms/step - loss: 1.1361 - accuracy: 0.6212 - val_loss: 1.4418 - val_accuracy: 0.5233 - lr: 1.0000e-04\n",
            "Epoch 12/1000\n",
            "75/75 [==============================] - 4s 57ms/step - loss: 1.0721 - accuracy: 0.6442 - val_loss: 1.4192 - val_accuracy: 0.5267 - lr: 1.0000e-04\n",
            "Epoch 13/1000\n",
            "75/75 [==============================] - 4s 55ms/step - loss: 0.9957 - accuracy: 0.6804 - val_loss: 1.3744 - val_accuracy: 0.5550 - lr: 1.0000e-04\n",
            "Epoch 14/1000\n",
            "75/75 [==============================] - 6s 75ms/step - loss: 0.9649 - accuracy: 0.6817 - val_loss: 1.3624 - val_accuracy: 0.5633 - lr: 1.0000e-04\n",
            "Epoch 15/1000\n",
            "75/75 [==============================] - 5s 61ms/step - loss: 0.9213 - accuracy: 0.6950 - val_loss: 1.3337 - val_accuracy: 0.5700 - lr: 1.0000e-04\n",
            "Epoch 16/1000\n",
            "75/75 [==============================] - 4s 60ms/step - loss: 0.8732 - accuracy: 0.7200 - val_loss: 1.3224 - val_accuracy: 0.5683 - lr: 1.0000e-04\n",
            "Epoch 17/1000\n",
            "75/75 [==============================] - 4s 60ms/step - loss: 0.8193 - accuracy: 0.7304 - val_loss: 1.2953 - val_accuracy: 0.5883 - lr: 1.0000e-04\n",
            "Epoch 18/1000\n",
            "75/75 [==============================] - 4s 56ms/step - loss: 0.7794 - accuracy: 0.7533 - val_loss: 1.2935 - val_accuracy: 0.5867 - lr: 1.0000e-04\n",
            "Epoch 19/1000\n",
            "75/75 [==============================] - 5s 61ms/step - loss: 0.7406 - accuracy: 0.7638 - val_loss: 1.2676 - val_accuracy: 0.5933 - lr: 1.0000e-04\n",
            "Epoch 20/1000\n",
            "75/75 [==============================] - 4s 56ms/step - loss: 0.6841 - accuracy: 0.7779 - val_loss: 1.2644 - val_accuracy: 0.5933 - lr: 1.0000e-04\n",
            "Epoch 21/1000\n",
            "75/75 [==============================] - ETA: 0s - loss: 0.6596 - accuracy: 0.7846\n",
            "Epoch 21: ReduceLROnPlateau reducing learning rate to 1.9999999494757503e-05.\n",
            "75/75 [==============================] - 4s 59ms/step - loss: 0.6596 - accuracy: 0.7846 - val_loss: 1.2692 - val_accuracy: 0.5917 - lr: 1.0000e-04\n",
            "Epoch 22/1000\n",
            "75/75 [==============================] - 5s 63ms/step - loss: 0.6280 - accuracy: 0.8025 - val_loss: 1.2656 - val_accuracy: 0.5983 - lr: 2.0000e-05\n",
            "Epoch 23/1000\n",
            "75/75 [==============================] - 4s 58ms/step - loss: 0.6181 - accuracy: 0.7975 - val_loss: 1.2601 - val_accuracy: 0.5983 - lr: 2.0000e-05\n",
            "Epoch 24/1000\n",
            "75/75 [==============================] - 4s 57ms/step - loss: 0.6059 - accuracy: 0.8062 - val_loss: 1.2544 - val_accuracy: 0.6017 - lr: 2.0000e-05\n",
            "Epoch 25/1000\n",
            "75/75 [==============================] - 4s 60ms/step - loss: 0.6092 - accuracy: 0.8104 - val_loss: 1.2571 - val_accuracy: 0.6050 - lr: 2.0000e-05\n",
            "Epoch 26/1000\n",
            "75/75 [==============================] - 4s 57ms/step - loss: 0.6115 - accuracy: 0.8117 - val_loss: 1.2481 - val_accuracy: 0.6033 - lr: 2.0000e-05\n",
            "Epoch 27/1000\n",
            "75/75 [==============================] - 4s 57ms/step - loss: 0.5906 - accuracy: 0.8112 - val_loss: 1.2460 - val_accuracy: 0.6217 - lr: 2.0000e-05\n",
            "Epoch 28/1000\n",
            "75/75 [==============================] - 4s 60ms/step - loss: 0.5908 - accuracy: 0.8171 - val_loss: 1.2457 - val_accuracy: 0.6167 - lr: 2.0000e-05\n",
            "Epoch 29/1000\n",
            "75/75 [==============================] - ETA: 0s - loss: 0.5505 - accuracy: 0.8221\n",
            "Epoch 29: ReduceLROnPlateau reducing learning rate to 3.999999898951501e-06.\n",
            "75/75 [==============================] - 4s 56ms/step - loss: 0.5505 - accuracy: 0.8221 - val_loss: 1.2476 - val_accuracy: 0.6133 - lr: 2.0000e-05\n",
            "Epoch 30/1000\n",
            "75/75 [==============================] - 4s 59ms/step - loss: 0.5587 - accuracy: 0.8308 - val_loss: 1.2478 - val_accuracy: 0.6167 - lr: 4.0000e-06\n",
            "Epoch 31/1000\n",
            "75/75 [==============================] - ETA: 0s - loss: 0.5765 - accuracy: 0.8242\n",
            "Epoch 31: ReduceLROnPlateau reducing learning rate to 1e-06.\n",
            "75/75 [==============================] - 5s 63ms/step - loss: 0.5765 - accuracy: 0.8242 - val_loss: 1.2515 - val_accuracy: 0.6083 - lr: 4.0000e-06\n",
            "Epoch 32/1000\n",
            "75/75 [==============================] - 5s 63ms/step - loss: 0.5664 - accuracy: 0.8254 - val_loss: 1.2518 - val_accuracy: 0.6133 - lr: 1.0000e-06\n",
            "Epoch 32: early stopping\n",
            "終了時間： 2022-03-29 03:12:56.485108\n"
          ]
        }
      ]
    },
    {
      "cell_type": "code",
      "execution_count": null,
      "id": "6de63827-4895-418a-acd0-b151c24cf700",
      "metadata": {
        "colab": {
          "base_uri": "https://localhost:8080/"
        },
        "id": "6de63827-4895-418a-acd0-b151c24cf700",
        "outputId": "6dac9e76-843d-485a-9e63-eabbb7a3ac48"
      },
      "outputs": [
        {
          "output_type": "stream",
          "name": "stdout",
          "text": [
            "16/16 [==============================] - 0s 27ms/step - loss: 1.3936 - accuracy: 0.5500\n"
          ]
        }
      ],
      "source": [
        "y_test = to_categorical(y_test)\n",
        "loss,accuracy=finetuned_model.evaluate(X_test,y_test)"
      ]
    },
    {
      "cell_type": "code",
      "execution_count": null,
      "id": "ae6d4bf9-b37d-48f9-aab3-5e59ea24e23d",
      "metadata": {
        "colab": {
          "base_uri": "https://localhost:8080/"
        },
        "id": "ae6d4bf9-b37d-48f9-aab3-5e59ea24e23d",
        "outputId": "2568b6d0-21f4-4fdd-cc30-d56cf9c52b84"
      },
      "outputs": [
        {
          "output_type": "stream",
          "name": "stdout",
          "text": [
            "loss:5.54,accuracy:0.10\n"
          ]
        }
      ],
      "source": [
        "print(f\"loss:{loss:.2f},accuracy:{accuracy:.2f}\")"
      ]
    }
  ],
  "metadata": {
    "environment": {
      "kernel": "python3",
      "name": "managed-notebooks.m90",
      "type": "gcloud",
      "uri": "gcr.io/deeplearning-platform-release/tf2-gpu:latest"
    },
    "kernelspec": {
      "display_name": "TensorFlow 2 (Local)",
      "language": "python",
      "name": "local-tf2"
    },
    "language_info": {
      "codemirror_mode": {
        "name": "ipython",
        "version": 3
      },
      "file_extension": ".py",
      "mimetype": "text/x-python",
      "name": "python",
      "nbconvert_exporter": "python",
      "pygments_lexer": "ipython3",
      "version": "3.7.12"
    },
    "colab": {
      "name": "finetuned_model.ipynb",
      "provenance": [],
      "collapsed_sections": [
        "76bcdb77-dd09-49f2-9e41-c1e6efe51ecb",
        "0e522894-9ca4-453d-801e-ad798b8e4b1f",
        "ef592311-c26f-4606-bcd2-f85b0931f631"
      ]
    },
    "accelerator": "GPU"
  },
  "nbformat": 4,
  "nbformat_minor": 5
}